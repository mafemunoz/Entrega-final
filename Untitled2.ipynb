{
  "cells": [
    {
      "cell_type": "markdown",
      "metadata": {
        "id": "view-in-github",
        "colab_type": "text"
      },
      "source": [
        "<a href=\"https://colab.research.google.com/github/mafemunoz/Entrega-final/blob/main/Untitled2.ipynb\" target=\"_parent\"><img src=\"https://colab.research.google.com/assets/colab-badge.svg\" alt=\"Open In Colab\"/></a>"
      ]
    },
    {
      "cell_type": "code",
      "execution_count": null,
      "metadata": {
        "id": "KVO-3YbrLNrj"
      },
      "outputs": [],
      "source": [
        "# librerias utilizadas\n",
        "import csv\n",
        "import random\n",
        "import math\n",
        "import numpy as np\n",
        "import sys\n",
        "import pandas as pd\n",
        "import os"
      ]
    },
    {
      "cell_type": "code",
      "execution_count": null,
      "metadata": {
        "colab": {
          "base_uri": "https://localhost:8080/"
        },
        "id": "Hu04YrXvL4Gt",
        "outputId": "c44cfb45-a296-4e2f-b348-789209ca4351"
      },
      "outputs": [
        {
          "name": "stdout",
          "output_type": "stream",
          "text": [
            "Ingrese su usuario: usuario1\n",
            "Ingrese su contraseña: contrasena1\n",
            "Acceso concedido.\n",
            "El usuario usuario1 ha iniciado sesión.\n"
          ]
        }
      ],
      "source": [
        "# Diccionario con usuarios y contraseñas\n",
        "info_seguridad = {\n",
        "    \"usuario1\": \"contrasena1\",\n",
        "    \"usuario2\": \"contrasena2\",\n",
        "    \"admin\": \"admin123\"\n",
        "}\n",
        "\n",
        "def verificar_credenciales(usuario, contrasena):\n",
        "    return info_seguridad.get(usuario) == contrasena\n",
        "\n",
        "def solicitar_credenciales():\n",
        "    intentos = 0\n",
        "    usuario_activo = None\n",
        "    while intentos < 3:\n",
        "        usuario = input(\"Ingrese su usuario: \")\n",
        "        contrasena = input(\"Ingrese su contraseña: \")\n",
        "\n",
        "        if verificar_credenciales(usuario, contrasena):\n",
        "            print(\"Acceso concedido.\")\n",
        "            usuario_activo = usuario\n",
        "            return usuario_activo\n",
        "        else:\n",
        "            print(\"Usuario o contraseña incorrectos.\")\n",
        "            intentos += 1\n",
        "\n",
        "    print(\"Demasiados intentos fallidos. El sistema se cerrará.\")\n",
        "    sys.exit()\n",
        "\n",
        "if __name__ == \"__main__\":\n",
        "    usuario_iniciado = solicitar_credenciales()\n",
        "    if usuario_iniciado:\n",
        "        print(f\"El usuario {usuario_iniciado} ha iniciado sesión.\")"
      ]
    },
    {
      "cell_type": "code",
      "execution_count": null,
      "metadata": {
        "colab": {
          "base_uri": "https://localhost:8080/",
          "height": 332
        },
        "id": "cQ5M34AsQc4x",
        "outputId": "9b99efae-71eb-493b-ebdc-947a8dec2600"
      },
      "outputs": [
        {
          "output_type": "error",
          "ename": "FileNotFoundError",
          "evalue": "[Errno 2] No such file or directory: 'https://github.com/mafemunoz/Entrega-final/209e709195affd52867df30aefc6f51204113042/nombres.csv'",
          "traceback": [
            "\u001b[0;31m---------------------------------------------------------------------------\u001b[0m",
            "\u001b[0;31mFileNotFoundError\u001b[0m                         Traceback (most recent call last)",
            "\u001b[0;32m<ipython-input-7-de4271f65e03>\u001b[0m in \u001b[0;36m<cell line: 16>\u001b[0;34m()\u001b[0m\n\u001b[1;32m     14\u001b[0m \u001b[0;34m\u001b[0m\u001b[0m\n\u001b[1;32m     15\u001b[0m \u001b[0;31m# Leer nombres y apellidos de los archivos CSV\u001b[0m\u001b[0;34m\u001b[0m\u001b[0;34m\u001b[0m\u001b[0m\n\u001b[0;32m---> 16\u001b[0;31m \u001b[0mnombres\u001b[0m \u001b[0;34m=\u001b[0m \u001b[0mleer_csv\u001b[0m\u001b[0;34m(\u001b[0m\u001b[0;34m'https://github.com/mafemunoz/Entrega-final/209e709195affd52867df30aefc6f51204113042/nombres.csv'\u001b[0m\u001b[0;34m)\u001b[0m\u001b[0;34m\u001b[0m\u001b[0;34m\u001b[0m\u001b[0m\n\u001b[0m\u001b[1;32m     17\u001b[0m \u001b[0mapellidos\u001b[0m \u001b[0;34m=\u001b[0m \u001b[0mleer_csv\u001b[0m\u001b[0;34m(\u001b[0m\u001b[0;34m'https://github.com/mafemunoz/Entrega-final/209e709195affd52867df30aefc6f51204113042/apellidos.csv'\u001b[0m\u001b[0;34m)\u001b[0m\u001b[0;34m\u001b[0m\u001b[0;34m\u001b[0m\u001b[0m\n\u001b[1;32m     18\u001b[0m \u001b[0;34m\u001b[0m\u001b[0m\n",
            "\u001b[0;32m<ipython-input-7-de4271f65e03>\u001b[0m in \u001b[0;36mleer_csv\u001b[0;34m(nombre_archivo)\u001b[0m\n\u001b[1;32m      2\u001b[0m \u001b[0;31m# Función para leer un archivo CSV y devolver una lista de elementos\u001b[0m\u001b[0;34m\u001b[0m\u001b[0;34m\u001b[0m\u001b[0m\n\u001b[1;32m      3\u001b[0m \u001b[0;32mdef\u001b[0m \u001b[0mleer_csv\u001b[0m\u001b[0;34m(\u001b[0m\u001b[0mnombre_archivo\u001b[0m\u001b[0;34m)\u001b[0m\u001b[0;34m:\u001b[0m\u001b[0;34m\u001b[0m\u001b[0;34m\u001b[0m\u001b[0m\n\u001b[0;32m----> 4\u001b[0;31m     \u001b[0;32mwith\u001b[0m \u001b[0mopen\u001b[0m\u001b[0;34m(\u001b[0m\u001b[0mnombre_archivo\u001b[0m\u001b[0;34m,\u001b[0m \u001b[0;34m'r'\u001b[0m\u001b[0;34m,\u001b[0m \u001b[0mnewline\u001b[0m\u001b[0;34m=\u001b[0m\u001b[0;34m''\u001b[0m\u001b[0;34m,\u001b[0m \u001b[0mencoding\u001b[0m\u001b[0;34m=\u001b[0m\u001b[0;34m'utf-8'\u001b[0m\u001b[0;34m)\u001b[0m \u001b[0;32mas\u001b[0m \u001b[0marchivo\u001b[0m\u001b[0;34m:\u001b[0m\u001b[0;34m\u001b[0m\u001b[0;34m\u001b[0m\u001b[0m\n\u001b[0m\u001b[1;32m      5\u001b[0m         \u001b[0mlector_csv\u001b[0m \u001b[0;34m=\u001b[0m \u001b[0mcsv\u001b[0m\u001b[0;34m.\u001b[0m\u001b[0mreader\u001b[0m\u001b[0;34m(\u001b[0m\u001b[0marchivo\u001b[0m\u001b[0;34m)\u001b[0m\u001b[0;34m\u001b[0m\u001b[0;34m\u001b[0m\u001b[0m\n\u001b[1;32m      6\u001b[0m         \u001b[0;32mreturn\u001b[0m \u001b[0;34m[\u001b[0m\u001b[0mfila\u001b[0m\u001b[0;34m[\u001b[0m\u001b[0;36m0\u001b[0m\u001b[0;34m]\u001b[0m \u001b[0;32mfor\u001b[0m \u001b[0mfila\u001b[0m \u001b[0;32min\u001b[0m \u001b[0mlector_csv\u001b[0m\u001b[0;34m]\u001b[0m\u001b[0;34m\u001b[0m\u001b[0;34m\u001b[0m\u001b[0m\n",
            "\u001b[0;31mFileNotFoundError\u001b[0m: [Errno 2] No such file or directory: 'https://github.com/mafemunoz/Entrega-final/209e709195affd52867df30aefc6f51204113042/nombres.csv'"
          ]
        }
      ],
      "source": [
        "## Info estudiantes\n",
        "# Función para leer un archivo CSV y devolver una lista de elementos\n",
        "def leer_csv(nombre_archivo):\n",
        "    with open(nombre_archivo, 'r', newline='', encoding='utf-8') as archivo:\n",
        "        lector_csv = csv.reader(archivo)\n",
        "        return [fila[0] for fila in lector_csv]\n",
        "\n",
        "# Función para escribir una lista de elementos en un archivo CSV\n",
        "def escribir_csv(nombre_archivo, lista):\n",
        "    with open(nombre_archivo, 'w', newline='', encoding='utf-8') as archivo:\n",
        "        escritor_csv = csv.writer(archivo)\n",
        "        for elemento in lista:\n",
        "            escritor_csv.writerow([elemento])\n",
        "\n",
        "# Leer nombres y apellidos de los archivos CSV\n",
        "nombres = leer_csv('nombres.csv')\n",
        "apellidos = leer_csv('apellidos.csv')\n",
        "\n",
        "# Generar 1000 elementos con combinaciones únicas de nombres y apellidos\n",
        "combinaciones = set()\n",
        "while len(combinaciones) < 1000:\n",
        "    nombre1 = random.choice(nombres)\n",
        "    nombre2 = random.choice(nombres)\n",
        "    apellido1 = random.choice(apellidos)\n",
        "    apellido2 = random.choice(apellidos)\n",
        "    combinacion = f\"{nombre1} {nombre2} {apellido1} {apellido2}\"\n",
        "    combinaciones.add(combinacion)\n",
        "\n",
        "# Escribir las combinaciones en un nuevo archivo CSV\n",
        "escribir_csv('nombres_apellidos.csv', list(combinaciones))\n",
        "\n",
        "# Lista para almacenar los elementos\n",
        "estudiantes = []\n",
        "\n",
        "# Leer el archivo CSV\n",
        "with open('nombres_apellidos.csv', newline='') as csvfile:\n",
        "    reader = csv.reader(csvfile)\n",
        "    for row in reader:\n",
        "        estudiantes.append(row[0])  # Asumimos que cada fila tiene un único elemento\n",
        "\n",
        "#distribuir los estudiantes por semestre\n",
        "i=0\n",
        "semestre=[]\n",
        "\n",
        "for i in range(1000):\n",
        "    if i < 140:\n",
        "        semestre.append(1)\n",
        "    elif i < 270:\n",
        "        semestre.append(2)\n",
        "    elif i < 390:\n",
        "        semestre.append(3)\n",
        "    elif i < 500:\n",
        "        semestre.append(4)\n",
        "    elif i < 600:\n",
        "        semestre.append(5)\n",
        "    elif i < 700:\n",
        "        semestre.append(6)\n",
        "    elif i < 790:\n",
        "        semestre.append(7)\n",
        "    elif i < 870:\n",
        "        semestre.append(8)\n",
        "    elif i < 940:\n",
        "        semestre.append(9)\n",
        "    else:\n",
        "        semestre.append(10)\n",
        "\n",
        "info_estudiantes = pd.DataFrame({\"Nombre\": estudiantes, \"semestre\": semestre})\n",
        "print(info_estudiantes)"
      ]
    },
    {
      "cell_type": "code",
      "execution_count": null,
      "metadata": {
        "id": "BK1nGWyNSopA"
      },
      "outputs": [],
      "source": [
        "## info materias\n",
        "materias = [\"Álgebra y Trigonometría\", \"Cálculo Diferencial\", \"Geometría Vectorial y Analítica\", \"Vivamos la Universidad\", \"Inglés I\", \"Lectoescritura\", \"Introducción a la Ingeniería Industrial\", \"Gestión de las Organizaciones\", \"Habilidades Gerenciales\", \"Álgebra Lineal\", \"Cálculo Integral\", \"Descubriendo la Física\", \"Inglés II\", \"Gestión Contable\", \"Física Mecánica\", \"Inglés III\", \"Algoritmia y Programación\", \"Probabilidad e Inferencia Estadística\", \"Teoría General de Sistemas\", \"Ingeniería Económica\", \"Electiva en Física\", \"Inglés IV\", \"Diseño de Experimentos y Análisis de Regresión\", \"Optimización\", \"Gestión de Métodos y Tiempos\", \"Gestión Financiera\", \"Laboratorio Integrado de Física\", \"Inglés V\", \"Formación Ciudadana y Constitucional\", \"Dinámica de Sistemas\", \"Muestreo y Series de Tiempo\", \"Procesos Estocásticos y Análisis de Decisión\", \"Gestión por Procesos\", \"Gestión Tecnológica\", \"Legislación\", \"Electiva en Humanidades I\", \"Inglés VI\", \"Simulación Discreta\", \"Formulación de Proyectos de Investigación\", \"Normalización y Control de la Calidad\", \"Formulación y Evaluación de Proyectos de Inversión\", \"Emprendimiento\", \"Electiva en Humanidades II\", \"Énfasis Profesional I\", \"Electiva Complementaria I\", \"Diseño de Sistemas Productivos\", \"Gestión de Proyectos\", \"Electiva en Humanidades III\", \"Énfasis Profesional I\", \"Electiva Complementaria I\", \"Administración de la Producción y del Servicio\", \"Electiva en Humanidades IV\", \"Énfasis Profesional I\", \"Electiva Complementaria I\", \"Gestión de la Cadena de Abastecimiento\", \"Ingeniería del Mejoramiento Continuo\", \"Práctica Profesional\"]\n",
        "nivel = [1, 1, 1, 1, 1, 1, 1,2, 2, 2, 2, 2, 2,3, 3, 3, 3, 3, 3, 4, 4, 4, 4, 4, 4, 5, 5, 5, 5, 5, 5, 5, 5,6, 6, 6, 6, 6, 6, 6,7, 7, 7, 7, 7, 7,8, 8, 8, 8, 8,9, 9, 9, 9, 9,10]\n",
        "creditos = [3, 3, 3, 1, 1, 3, 1, 3, 3, 3, 3, 3, 1, 3, 3, 1, 3, 3, 3, 3, 3, 1, 3, 3, 4, 3, 1, 1, 1, 3, 3, 3, 3, 3, 3, 3, 1, 3, 3, 3, 3, 2, 3, 3, 3, 3, 3, 3, 3, 3, 3, 3, 3, 3, 3, 3, 12]\n",
        "def calcular_HTD(creditos):\n",
        "    HTD = []\n",
        "    for credito in creditos:\n",
        "        if credito == 4:\n",
        "            HTD.append(96)\n",
        "        elif credito == 3:\n",
        "            HTD.append(64)\n",
        "        else:  # Para créditos <= 2\n",
        "            HTD.append(credito * 16)\n",
        "    return HTD\n",
        "\n",
        "HTD = calcular_HTD(creditos)\n",
        "def calcular_HTI(creditos):\n",
        "    HTI = []\n",
        "    for credito in creditos:\n",
        "        if credito == 4:\n",
        "            HTI.append(120)\n",
        "        elif credito == 3:\n",
        "            HTI.append(80)\n",
        "        else:  # Para créditos <= 2\n",
        "            HTI.append(credito * 32)\n",
        "    return HTI\n",
        "HTI = calcular_HTI(creditos)\n",
        "def calcular_CA(nombres_asignaturas, semestres, creditos):\n",
        "    CA = []\n",
        "    for nombre, semestre, credito in zip(nombres_asignaturas, semestres, creditos):\n",
        "        codigo_asignatura = nombre[:3].upper() + str(semestre).zfill(2) + str(credito)\n",
        "        i=0\n",
        "        while i < len(CA):\n",
        "            if codigo_asignatura == CA[i]:\n",
        "             codigo_asignatura = nombre[:3].upper() +\"2\"+ str(semestre) + str(credito)\n",
        "            i+=1\n",
        "        CA.append(codigo_asignatura)\n",
        "    return CA\n",
        "CA = calcular_CA(materias, nivel,creditos)\n",
        "CMPA = [30, 30, 30, 25, 25, 25, 20, 20, 20, 10]\n",
        "def calcular_tca(distribucion_estudiantes, cmpa):\n",
        "    tca = []\n",
        "    for semestre, estudiantes in distribucion_estudiantes.items():\n",
        "        # Obtener el índice del semestre para usarlo con CMPA\n",
        "        semestre_index = list(distribucion_estudiantes.keys()).index(semestre)\n",
        "        # Calcular TCA para el semestre actual y redondear al entero siguiente\n",
        "        tca.append(math.ceil(estudiantes / cmpa[semestre_index]))\n",
        "    return tca\n",
        "\n",
        "distribucion_estudiantes = {\n",
        "    \"1er Semestre\": 140,\n",
        "    \"2do Semestre\": 120,\n",
        "    \"3er Semestre\": 120,\n",
        "    \"4to Semestre\": 110,\n",
        "    \"5to Semestre\": 100,\n",
        "    \"6to Semestre\": 100,\n",
        "    \"7mo Semestre\": 90,\n",
        "    \"8vo Semestre\": 80,\n",
        "    \"9no Semestre\": 70,\n",
        "    \"10mo Semestre\": 60,\n",
        "}\n",
        "\n",
        "# Cupo máximo por aula por semestre\n",
        "cmpa = [30, 30, 30, 25, 25, 25, 20, 20, 20, 10]\n",
        "\n",
        "# Calcular TCA\n",
        "tca = calcular_tca(distribucion_estudiantes, cmpa)\n",
        "def repartir_cmpa_por_nivel(nivel, cmpa):\n",
        "    # Crear una lista vacía para almacenar los resultados\n",
        "    repartidos_cmpa = []\n",
        "\n",
        "    # Iterar sobre la lista de niveles\n",
        "    for sem in nivel:\n",
        "        if sem == 1:\n",
        "            repartidos_cmpa.append(cmpa[0])\n",
        "        elif sem == 2:\n",
        "            repartidos_cmpa.append(cmpa[1])\n",
        "        elif sem == 3:\n",
        "            repartidos_cmpa.append(cmpa[2])\n",
        "        elif sem == 4:\n",
        "            repartidos_cmpa.append(cmpa[3])\n",
        "        elif sem == 5:\n",
        "            repartidos_cmpa.append(cmpa[4])\n",
        "        elif sem == 6:\n",
        "            repartidos_cmpa.append(cmpa[5])\n",
        "        elif sem == 7:\n",
        "            repartidos_cmpa.append(cmpa[6])\n",
        "        elif sem == 8:\n",
        "            repartidos_cmpa.append(cmpa[7])\n",
        "        elif sem == 9:\n",
        "            repartidos_cmpa.append(cmpa[8])\n",
        "        elif sem == 10:\n",
        "            repartidos_cmpa.append(cmpa[9])\n",
        "\n",
        "    return repartidos_cmpa\n",
        "repartidos_cmpa = repartir_cmpa_por_nivel(nivel, cmpa)\n",
        "\n",
        "repartidosTCA = repartir_cmpa_por_nivel(nivel, tca)\n",
        "info_materias = pd.DataFrame ({\"Asignatura\":materias,\"Nivel\": nivel,\"Creditos\": creditos,\"HTD\": HTD,\"HTI\": HTI,\"CA\": CA, \"Cupo maximo\": repartidos_cmpa,\"Total cursos\": repartidosTCA})\n"
      ]
    },
    {
      "cell_type": "code",
      "execution_count": null,
      "metadata": {
        "colab": {
          "base_uri": "https://localhost:8080/"
        },
        "id": "YRMM-eoB7F_j",
        "outputId": "a395e3e4-1ea6-441a-974b-3560970f6cdc"
      },
      "outputs": [
        {
          "output_type": "stream",
          "name": "stdout",
          "text": [
            "Archivos creados y organizados con éxito.\n"
          ]
        }
      ],
      "source": [
        "b = 1\n",
        "while b < 11:\n",
        "    estudiantes_semestre = info_estudiantes[info_estudiantes[\"semestre\"] == b]\n",
        "    materia = info_materias[info_materias[\"Nivel\"] == b]\n",
        "    b += 1\n",
        "\n",
        "    for a in materia.index:\n",
        "        for grupo in range(1, materia.loc[a, \"Total cursos\"] + 1):\n",
        "            if len(estudiantes_semestre) >= materia.loc[a, \"Cupo maximo\"]:\n",
        "                estudiantes_indices = []\n",
        "                for c in range((grupo - 1) * materia.loc[a, \"Cupo maximo\"], grupo * materia.loc[a, \"Cupo maximo\"]):\n",
        "                    if c < len(estudiantes_semestre):\n",
        "                        estudiantes_indices.append(c)\n",
        "                estudiantes_grupo = estudiantes_semestre.iloc[estudiantes_indices]\n",
        "                # Crear DataFrame para el grupo\n",
        "                # Crear DataFrame para el grupo\n",
        "                df = estudiantes_grupo.copy()\n",
        "                for col in [\"Creditos\", \"HTD\", \"HTI\", \"CA\"]:\n",
        "                    df[col] = materia.loc[a, col]\n",
        "                estudiantes_por_grupo = len(df)\n",
        "                # Crear estructura de carpetas\n",
        "                asignatura_folder = \"Ruta_Trabajo_Final/\" + str(b-1) + \"/\" + materia.loc[a, \"Asignatura\"].replace(' ', '')\n",
        "                os.makedirs(asignatura_folder, exist_ok=True)\n",
        "                # Nombre de los archivos\n",
        "                archivo_nombre = materia.loc[a, \"CA\"] + \"-\" + materia.loc[a, \"Asignatura\"].replace(' ', '').capitalize() + \"-\" + str(estudiantes_por_grupo) + \"-\" + str(grupo)\n",
        "                # Guardar archivos Excel y CSV\n",
        "                df.to_excel(f\"{asignatura_folder}/{archivo_nombre}.xlsx\", index=False)\n",
        "                df.to_csv(f\"{asignatura_folder}/{archivo_nombre}.csv\", index=False)\n",
        "\n",
        "print(\"Archivos creados y organizados con éxito.\")\n",
        "\n"
      ]
    }
  ],
  "metadata": {
    "colab": {
      "provenance": [],
      "include_colab_link": true
    },
    "kernelspec": {
      "display_name": "Python 3",
      "name": "python3"
    },
    "language_info": {
      "name": "python"
    }
  },
  "nbformat": 4,
  "nbformat_minor": 0
}